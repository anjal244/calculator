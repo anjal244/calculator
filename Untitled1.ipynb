{
 "cells": [
  {
   "cell_type": "code",
   "execution_count": null,
   "id": "3f113e63",
   "metadata": {},
   "outputs": [],
   "source": [
    "def add():\n",
    "    a=int(input(\"Enter 1st Number :- \"))\n",
    "    b=int(input(\"Enter 2nd Number :- \"))\n",
    "    return a+b\n",
    "\n",
    "def sub():\n",
    "    a=int(input(\"Enter 1st Number :- \"))\n",
    "    b=int(input(\"Enter 2nd Number :- \"))\n",
    "    return a-b\n",
    "\n",
    "def mul():\n",
    "    a=int(input(\"Enter 1st Number :- \"))\n",
    "    b=int(input(\"Enter 2nd Number :- \"))\n",
    "    return a*b\n",
    "\n",
    "def div():\n",
    "    a=int(input(\"Enter 1st Number :- \"))\n",
    "    b=int(input(\"Enter 2nd Number :- \"))\n",
    "    return a/b\n",
    "\n",
    "op=int(input(\"Enter the Number :- \\n 1(Addition), \\n 2(Subtraction), \\n 3(Multipication), \\n 4(Division) \\n\"))\n",
    "if op==1:\n",
    "    print(add())\n",
    "    \n",
    "elif op==2:\n",
    "    print(sub())\n",
    "    \n",
    "elif op==3:\n",
    "    print(mul())\n",
    "    \n",
    "elif op==4:\n",
    "    print(div())\n",
    "    \n",
    "else :\n",
    "    print(\"Invalide Number!\")"
   ]
  },
  {
   "cell_type": "code",
   "execution_count": null,
   "id": "80d3ed22",
   "metadata": {},
   "outputs": [],
   "source": []
  }
 ],
 "metadata": {
  "kernelspec": {
   "display_name": "Python 3 (ipykernel)",
   "language": "python",
   "name": "python3"
  }
 },
 "nbformat": 4,
 "nbformat_minor": 5
}
